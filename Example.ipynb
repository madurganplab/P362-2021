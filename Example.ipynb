{
    "cells": [
        {
            "cell_type": "markdown",
            "source": [
                "# Example of Data Visualization and Analysis in Jupyter Notebook with Julia"
            ],
            "metadata": {}
        },
        {
            "cell_type": "markdown",
            "source": [
                "**Abstract**\n",
                "\n",
                " The Julia programming language can be used to produced high quality plots with ease. In the example here we define, plot and fit a Voltage v. Current series with just 5 lines of code. For a genera introduction to Jupyter notebooks the accompanying \"Jupyter Notebooks\" notebook.\n"
            ],
            "metadata": {}
        },
        {
            "cell_type": "markdown",
            "source": [
                "**Initialization**\n",
                "\n",
                "We start by initializing standard `Plots` libraries (in Julia parlance ***packages***)"
            ],
            "metadata": {}
        },
        {
            "cell_type": "code",
            "execution_count": 1,
            "source": [
                "using Plots"
            ],
            "outputs": [],
            "metadata": {}
        },
        {
            "cell_type": "markdown",
            "source": [
                "**Data Entry**\n",
                "\n",
                "In this example we want to measured currents as function of the input voltage in the circuit. For example, we measure between 0.5 and 5 V in 0.5 V increments. Inserting values by hand would look like this:"
            ],
            "metadata": {}
        },
        {
            "cell_type": "code",
            "execution_count": 2,
            "source": [
                "#Voltage entries\n",
                "v = [0.5,\n",
                "     1.0,\n",
                "     1.5,\n",
                "     2.0,\n",
                "     2.5,\n",
                "     3.0,\n",
                "     3.5,\n",
                "     4.0,\n",
                "     4.5,\n",
                "     5.0]"
            ],
            "outputs": [
                {
                    "output_type": "execute_result",
                    "data": {
                        "text/plain": [
                            "10-element Vector{Float64}:\n",
                            " 0.5\n",
                            " 1.0\n",
                            " 1.5\n",
                            " 2.0\n",
                            " 2.5\n",
                            " 3.0\n",
                            " 3.5\n",
                            " 4.0\n",
                            " 4.5\n",
                            " 5.0"
                        ]
                    },
                    "metadata": {},
                    "execution_count": 2
                }
            ],
            "metadata": {}
        },
        {
            "cell_type": "code",
            "execution_count": 3,
            "source": [
                "#Current measurements\n",
                "i =[0.048,\n",
                "    0.105,\n",
                "    0.153,\n",
                "    0.201,\n",
                "    0.247,\n",
                "    0.312,\n",
                "    0.348,\n",
                "    0.401,\n",
                "    0.445,\n",
                "    0.501]"
            ],
            "outputs": [
                {
                    "output_type": "execute_result",
                    "data": {
                        "text/plain": [
                            "10-element Vector{Float64}:\n",
                            " 0.048\n",
                            " 0.105\n",
                            " 0.153\n",
                            " 0.201\n",
                            " 0.247\n",
                            " 0.312\n",
                            " 0.348\n",
                            " 0.401\n",
                            " 0.445\n",
                            " 0.501"
                        ]
                    },
                    "metadata": {},
                    "execution_count": 3
                }
            ],
            "metadata": {}
        },
        {
            "cell_type": "markdown",
            "source": [
                "**Plotting Data**\n",
                "\n",
                "Julia makes it exceedingly easy to plot numerical evaluations using the `plot` function. This would result in a single line graph. However, for experimental data we want to represent each measurement with a point using the `scatter` function.\n",
                "\n",
                "Plot properties can be directly inserted in the `scatter` command, so have fun with markers shapes, colors and sizes!\n",
                "\n",
                "Plotting the voltage as a function of the current then looks like this\n"
            ],
            "metadata": {}
        },
        {
            "cell_type": "code",
            "execution_count": 4,
            "source": [
                "scatter(i,v, xlabel=(\"Current (A)\"),ylabel=(\"Voltage (V)\"),markershape=:diamond,markersize=6)"
            ],
            "outputs": [
                {
                    "output_type": "execute_result",
                    "data": {
                        "image/svg+xml": "<?xml version=\"1.0\" encoding=\"utf-8\"?>\n<svg xmlns=\"http://www.w3.org/2000/svg\" xmlns:xlink=\"http://www.w3.org/1999/xlink\" width=\"600\" height=\"400\" viewBox=\"0 0 2400 1600\">\n<defs>\n  <clipPath id=\"clip650\">\n    <rect x=\"0\" y=\"0\" width=\"2400\" height=\"1600\"/>\n  </clipPath>\n</defs>\n<path clip-path=\"url(#clip650)\" d=\"\nM0 1600 L2400 1600 L2400 0 L0 0  Z\n  \" fill=\"#ffffff\" fill-rule=\"evenodd\" fill-opacity=\"1\"/>\n<defs>\n  <clipPath id=\"clip651\">\n    <rect x=\"480\" y=\"0\" width=\"1681\" height=\"1600\"/>\n  </clipPath>\n</defs>\n<path clip-path=\"url(#clip650)\" d=\"\nM175.445 1423.18 L2352.76 1423.18 L2352.76 47.2441 L175.445 47.2441  Z\n  \" fill=\"#ffffff\" fill-rule=\"evenodd\" fill-opacity=\"1\"/>\n<defs>\n  <clipPath id=\"clip652\">\n    <rect x=\"175\" y=\"47\" width=\"2178\" height=\"1377\"/>\n  </clipPath>\n</defs>\n<polyline clip-path=\"url(#clip652)\" style=\"stroke:#000000; stroke-linecap:butt; stroke-linejoin:round; stroke-width:2; stroke-opacity:0.1; fill:none\" points=\"\n  472.854,1423.18 472.854,47.2441 \n  \"/>\n<polyline clip-path=\"url(#clip652)\" style=\"stroke:#000000; stroke-linecap:butt; stroke-linejoin:round; stroke-width:2; stroke-opacity:0.1; fill:none\" points=\"\n  926.29,1423.18 926.29,47.2441 \n  \"/>\n<polyline clip-path=\"url(#clip652)\" style=\"stroke:#000000; stroke-linecap:butt; stroke-linejoin:round; stroke-width:2; stroke-opacity:0.1; fill:none\" points=\"\n  1379.73,1423.18 1379.73,47.2441 \n  \"/>\n<polyline clip-path=\"url(#clip652)\" style=\"stroke:#000000; stroke-linecap:butt; stroke-linejoin:round; stroke-width:2; stroke-opacity:0.1; fill:none\" points=\"\n  1833.16,1423.18 1833.16,47.2441 \n  \"/>\n<polyline clip-path=\"url(#clip652)\" style=\"stroke:#000000; stroke-linecap:butt; stroke-linejoin:round; stroke-width:2; stroke-opacity:0.1; fill:none\" points=\"\n  2286.6,1423.18 2286.6,47.2441 \n  \"/>\n<polyline clip-path=\"url(#clip650)\" style=\"stroke:#000000; stroke-linecap:butt; stroke-linejoin:round; stroke-width:4; stroke-opacity:1; fill:none\" points=\"\n  175.445,1423.18 2352.76,1423.18 \n  \"/>\n<polyline clip-path=\"url(#clip650)\" style=\"stroke:#000000; stroke-linecap:butt; stroke-linejoin:round; stroke-width:4; stroke-opacity:1; fill:none\" points=\"\n  472.854,1423.18 472.854,1406.67 \n  \"/>\n<polyline clip-path=\"url(#clip650)\" style=\"stroke:#000000; stroke-linecap:butt; stroke-linejoin:round; stroke-width:4; stroke-opacity:1; fill:none\" points=\"\n  926.29,1423.18 926.29,1406.67 \n  \"/>\n<polyline clip-path=\"url(#clip650)\" style=\"stroke:#000000; stroke-linecap:butt; stroke-linejoin:round; stroke-width:4; stroke-opacity:1; fill:none\" points=\"\n  1379.73,1423.18 1379.73,1406.67 \n  \"/>\n<polyline clip-path=\"url(#clip650)\" style=\"stroke:#000000; stroke-linecap:butt; stroke-linejoin:round; stroke-width:4; stroke-opacity:1; fill:none\" points=\"\n  1833.16,1423.18 1833.16,1406.67 \n  \"/>\n<polyline clip-path=\"url(#clip650)\" style=\"stroke:#000000; stroke-linecap:butt; stroke-linejoin:round; stroke-width:4; stroke-opacity:1; fill:none\" points=\"\n  2286.6,1423.18 2286.6,1406.67 \n  \"/>\n<path clip-path=\"url(#clip650)\" d=\"M450.852 1452.37 Q447.241 1452.37 445.412 1455.94 Q443.607 1459.48 443.607 1466.61 Q443.607 1473.71 445.412 1477.28 Q447.241 1480.82 450.852 1480.82 Q454.486 1480.82 456.292 1477.28 Q458.12 1473.71 458.12 1466.61 Q458.12 1459.48 456.292 1455.94 Q454.486 1452.37 450.852 1452.37 M450.852 1448.67 Q456.662 1448.67 459.718 1453.27 Q462.796 1457.86 462.796 1466.61 Q462.796 1475.33 459.718 1479.94 Q456.662 1484.52 450.852 1484.52 Q445.042 1484.52 441.963 1479.94 Q438.908 1475.33 438.908 1466.61 Q438.908 1457.86 441.963 1453.27 Q445.042 1448.67 450.852 1448.67 Z\" fill=\"#000000\" fill-rule=\"evenodd\" fill-opacity=\"1\" /><path clip-path=\"url(#clip650)\" d=\"M471.014 1477.97 L475.898 1477.97 L475.898 1483.85 L471.014 1483.85 L471.014 1477.97 Z\" fill=\"#000000\" fill-rule=\"evenodd\" fill-opacity=\"1\" /><path clip-path=\"url(#clip650)\" d=\"M486.893 1479.92 L494.532 1479.92 L494.532 1453.55 L486.222 1455.22 L486.222 1450.96 L494.486 1449.29 L499.162 1449.29 L499.162 1479.92 L506.801 1479.92 L506.801 1483.85 L486.893 1483.85 L486.893 1479.92 Z\" fill=\"#000000\" fill-rule=\"evenodd\" fill-opacity=\"1\" /><path clip-path=\"url(#clip650)\" d=\"M904.473 1452.37 Q900.862 1452.37 899.034 1455.94 Q897.228 1459.48 897.228 1466.61 Q897.228 1473.71 899.034 1477.28 Q900.862 1480.82 904.473 1480.82 Q908.108 1480.82 909.913 1477.28 Q911.742 1473.71 911.742 1466.61 Q911.742 1459.48 909.913 1455.94 Q908.108 1452.37 904.473 1452.37 M904.473 1448.67 Q910.284 1448.67 913.339 1453.27 Q916.418 1457.86 916.418 1466.61 Q916.418 1475.33 913.339 1479.94 Q910.284 1484.52 904.473 1484.52 Q898.663 1484.52 895.585 1479.94 Q892.529 1475.33 892.529 1466.61 Q892.529 1457.86 895.585 1453.27 Q898.663 1448.67 904.473 1448.67 Z\" fill=\"#000000\" fill-rule=\"evenodd\" fill-opacity=\"1\" /><path clip-path=\"url(#clip650)\" d=\"M924.635 1477.97 L929.52 1477.97 L929.52 1483.85 L924.635 1483.85 L924.635 1477.97 Z\" fill=\"#000000\" fill-rule=\"evenodd\" fill-opacity=\"1\" /><path clip-path=\"url(#clip650)\" d=\"M943.733 1479.92 L960.052 1479.92 L960.052 1483.85 L938.108 1483.85 L938.108 1479.92 Q940.77 1477.16 945.353 1472.53 Q949.959 1467.88 951.14 1466.54 Q953.385 1464.01 954.265 1462.28 Q955.168 1460.52 955.168 1458.83 Q955.168 1456.07 953.223 1454.34 Q951.302 1452.6 948.2 1452.6 Q946.001 1452.6 943.547 1453.37 Q941.117 1454.13 938.339 1455.68 L938.339 1450.96 Q941.163 1449.82 943.617 1449.25 Q946.07 1448.67 948.107 1448.67 Q953.478 1448.67 956.672 1451.35 Q959.867 1454.04 959.867 1458.53 Q959.867 1460.66 959.056 1462.58 Q958.269 1464.48 956.163 1467.07 Q955.584 1467.74 952.482 1470.96 Q949.381 1474.15 943.733 1479.92 Z\" fill=\"#000000\" fill-rule=\"evenodd\" fill-opacity=\"1\" /><path clip-path=\"url(#clip650)\" d=\"M1357.44 1452.37 Q1353.82 1452.37 1352 1455.94 Q1350.19 1459.48 1350.19 1466.61 Q1350.19 1473.71 1352 1477.28 Q1353.82 1480.82 1357.44 1480.82 Q1361.07 1480.82 1362.88 1477.28 Q1364.7 1473.71 1364.7 1466.61 Q1364.7 1459.48 1362.88 1455.94 Q1361.07 1452.37 1357.44 1452.37 M1357.44 1448.67 Q1363.25 1448.67 1366.3 1453.27 Q1369.38 1457.86 1369.38 1466.61 Q1369.38 1475.33 1366.3 1479.94 Q1363.25 1484.52 1357.44 1484.52 Q1351.63 1484.52 1348.55 1479.94 Q1345.49 1475.33 1345.49 1466.61 Q1345.49 1457.86 1348.55 1453.27 Q1351.63 1448.67 1357.44 1448.67 Z\" fill=\"#000000\" fill-rule=\"evenodd\" fill-opacity=\"1\" /><path clip-path=\"url(#clip650)\" d=\"M1377.6 1477.97 L1382.48 1477.97 L1382.48 1483.85 L1377.6 1483.85 L1377.6 1477.97 Z\" fill=\"#000000\" fill-rule=\"evenodd\" fill-opacity=\"1\" /><path clip-path=\"url(#clip650)\" d=\"M1406.83 1465.22 Q1410.19 1465.94 1412.06 1468.2 Q1413.96 1470.47 1413.96 1473.81 Q1413.96 1478.92 1410.44 1481.72 Q1406.93 1484.52 1400.44 1484.52 Q1398.27 1484.52 1395.95 1484.08 Q1393.66 1483.67 1391.21 1482.81 L1391.21 1478.3 Q1393.15 1479.43 1395.47 1480.01 Q1397.78 1480.59 1400.31 1480.59 Q1404.7 1480.59 1407 1478.85 Q1409.31 1477.12 1409.31 1473.81 Q1409.31 1470.75 1407.16 1469.04 Q1405.03 1467.3 1401.21 1467.3 L1397.18 1467.3 L1397.18 1463.46 L1401.39 1463.46 Q1404.84 1463.46 1406.67 1462.09 Q1408.5 1460.7 1408.5 1458.11 Q1408.5 1455.45 1406.6 1454.04 Q1404.73 1452.6 1401.21 1452.6 Q1399.29 1452.6 1397.09 1453.02 Q1394.89 1453.44 1392.25 1454.31 L1392.25 1450.15 Q1394.91 1449.41 1397.23 1449.04 Q1399.56 1448.67 1401.62 1448.67 Q1406.95 1448.67 1410.05 1451.1 Q1413.15 1453.5 1413.15 1457.63 Q1413.15 1460.5 1411.51 1462.49 Q1409.87 1464.45 1406.83 1465.22 Z\" fill=\"#000000\" fill-rule=\"evenodd\" fill-opacity=\"1\" /><path clip-path=\"url(#clip650)\" d=\"M1810.3 1452.37 Q1806.69 1452.37 1804.86 1455.94 Q1803.06 1459.48 1803.06 1466.61 Q1803.06 1473.71 1804.86 1477.28 Q1806.69 1480.82 1810.3 1480.82 Q1813.94 1480.82 1815.74 1477.28 Q1817.57 1473.71 1817.57 1466.61 Q1817.57 1459.48 1815.74 1455.94 Q1813.94 1452.37 1810.3 1452.37 M1810.3 1448.67 Q1816.11 1448.67 1819.17 1453.27 Q1822.25 1457.86 1822.25 1466.61 Q1822.25 1475.33 1819.17 1479.94 Q1816.11 1484.52 1810.3 1484.52 Q1804.49 1484.52 1801.42 1479.94 Q1798.36 1475.33 1798.36 1466.61 Q1798.36 1457.86 1801.42 1453.27 Q1804.49 1448.67 1810.3 1448.67 Z\" fill=\"#000000\" fill-rule=\"evenodd\" fill-opacity=\"1\" /><path clip-path=\"url(#clip650)\" d=\"M1830.47 1477.97 L1835.35 1477.97 L1835.35 1483.85 L1830.47 1483.85 L1830.47 1477.97 Z\" fill=\"#000000\" fill-rule=\"evenodd\" fill-opacity=\"1\" /><path clip-path=\"url(#clip650)\" d=\"M1858.38 1453.37 L1846.58 1471.81 L1858.38 1471.81 L1858.38 1453.37 M1857.16 1449.29 L1863.04 1449.29 L1863.04 1471.81 L1867.97 1471.81 L1867.97 1475.7 L1863.04 1475.7 L1863.04 1483.85 L1858.38 1483.85 L1858.38 1475.7 L1842.78 1475.7 L1842.78 1471.19 L1857.16 1449.29 Z\" fill=\"#000000\" fill-rule=\"evenodd\" fill-opacity=\"1\" /><path clip-path=\"url(#clip650)\" d=\"M2264.48 1452.37 Q2260.87 1452.37 2259.04 1455.94 Q2257.24 1459.48 2257.24 1466.61 Q2257.24 1473.71 2259.04 1477.28 Q2260.87 1480.82 2264.48 1480.82 Q2268.12 1480.82 2269.92 1477.28 Q2271.75 1473.71 2271.75 1466.61 Q2271.75 1459.48 2269.92 1455.94 Q2268.12 1452.37 2264.48 1452.37 M2264.48 1448.67 Q2270.29 1448.67 2273.35 1453.27 Q2276.43 1457.86 2276.43 1466.61 Q2276.43 1475.33 2273.35 1479.94 Q2270.29 1484.52 2264.48 1484.52 Q2258.67 1484.52 2255.59 1479.94 Q2252.54 1475.33 2252.54 1466.61 Q2252.54 1457.86 2255.59 1453.27 Q2258.67 1448.67 2264.48 1448.67 Z\" fill=\"#000000\" fill-rule=\"evenodd\" fill-opacity=\"1\" /><path clip-path=\"url(#clip650)\" d=\"M2284.64 1477.97 L2289.53 1477.97 L2289.53 1483.85 L2284.64 1483.85 L2284.64 1477.97 Z\" fill=\"#000000\" fill-rule=\"evenodd\" fill-opacity=\"1\" /><path clip-path=\"url(#clip650)\" d=\"M2299.76 1449.29 L2318.12 1449.29 L2318.12 1453.23 L2304.04 1453.23 L2304.04 1461.7 Q2305.06 1461.35 2306.08 1461.19 Q2307.1 1461 2308.12 1461 Q2313.9 1461 2317.28 1464.18 Q2320.66 1467.35 2320.66 1472.76 Q2320.66 1478.34 2317.19 1481.44 Q2313.72 1484.52 2307.4 1484.52 Q2305.22 1484.52 2302.95 1484.15 Q2300.71 1483.78 2298.3 1483.04 L2298.3 1478.34 Q2300.38 1479.48 2302.61 1480.03 Q2304.83 1480.59 2307.31 1480.59 Q2311.31 1480.59 2313.65 1478.48 Q2315.99 1476.38 2315.99 1472.76 Q2315.99 1469.15 2313.65 1467.05 Q2311.31 1464.94 2307.31 1464.94 Q2305.43 1464.94 2303.56 1465.36 Q2301.7 1465.77 2299.76 1466.65 L2299.76 1449.29 Z\" fill=\"#000000\" fill-rule=\"evenodd\" fill-opacity=\"1\" /><path clip-path=\"url(#clip650)\" d=\"M1126.55 1524.18 L1126.55 1530.96 Q1123.31 1527.94 1119.61 1526.44 Q1115.95 1524.95 1111.82 1524.95 Q1103.67 1524.95 1099.34 1529.95 Q1095.01 1534.91 1095.01 1544.33 Q1095.01 1553.72 1099.34 1558.72 Q1103.67 1563.68 1111.82 1563.68 Q1115.95 1563.68 1119.61 1562.19 Q1123.31 1560.69 1126.55 1557.67 L1126.55 1564.38 Q1123.18 1566.68 1119.39 1567.82 Q1115.64 1568.97 1111.43 1568.97 Q1100.65 1568.97 1094.44 1562.38 Q1088.23 1555.76 1088.23 1544.33 Q1088.23 1532.87 1094.44 1526.28 Q1100.65 1519.66 1111.43 1519.66 Q1115.7 1519.66 1119.46 1520.81 Q1123.24 1521.92 1126.55 1524.18 Z\" fill=\"#000000\" fill-rule=\"evenodd\" fill-opacity=\"1\" /><path clip-path=\"url(#clip650)\" d=\"M1135.62 1553.98 L1135.62 1532.4 L1141.48 1532.4 L1141.48 1553.75 Q1141.48 1558.81 1143.45 1561.36 Q1145.43 1563.87 1149.37 1563.87 Q1154.12 1563.87 1156.85 1560.85 Q1159.62 1557.83 1159.62 1552.61 L1159.62 1532.4 L1165.48 1532.4 L1165.48 1568.04 L1159.62 1568.04 L1159.62 1562.57 Q1157.49 1565.82 1154.66 1567.41 Q1151.86 1568.97 1148.13 1568.97 Q1141.99 1568.97 1138.81 1565.15 Q1135.62 1561.33 1135.62 1553.98 M1150.36 1531.54 L1150.36 1531.54 Z\" fill=\"#000000\" fill-rule=\"evenodd\" fill-opacity=\"1\" /><path clip-path=\"url(#clip650)\" d=\"M1198.2 1537.87 Q1197.21 1537.3 1196.04 1537.04 Q1194.89 1536.76 1193.49 1536.76 Q1188.52 1536.76 1185.85 1540 Q1183.21 1543.22 1183.21 1549.27 L1183.21 1568.04 L1177.32 1568.04 L1177.32 1532.4 L1183.21 1532.4 L1183.21 1537.93 Q1185.05 1534.69 1188.01 1533.13 Q1190.97 1531.54 1195.21 1531.54 Q1195.81 1531.54 1196.54 1531.63 Q1197.28 1531.7 1198.17 1531.85 L1198.2 1537.87 Z\" fill=\"#000000\" fill-rule=\"evenodd\" fill-opacity=\"1\" /><path clip-path=\"url(#clip650)\" d=\"M1223.85 1537.87 Q1222.87 1537.3 1221.69 1537.04 Q1220.54 1536.76 1219.14 1536.76 Q1214.18 1536.76 1211.5 1540 Q1208.86 1543.22 1208.86 1549.27 L1208.86 1568.04 L1202.97 1568.04 L1202.97 1532.4 L1208.86 1532.4 L1208.86 1537.93 Q1210.71 1534.69 1213.67 1533.13 Q1216.63 1531.54 1220.86 1531.54 Q1221.47 1531.54 1222.2 1531.63 Q1222.93 1531.7 1223.82 1531.85 L1223.85 1537.87 Z\" fill=\"#000000\" fill-rule=\"evenodd\" fill-opacity=\"1\" /><path clip-path=\"url(#clip650)\" d=\"M1259.06 1548.76 L1259.06 1551.62 L1232.13 1551.62 Q1232.51 1557.67 1235.76 1560.85 Q1239.04 1564 1244.86 1564 Q1248.23 1564 1251.39 1563.17 Q1254.57 1562.35 1257.69 1560.69 L1257.69 1566.23 Q1254.54 1567.57 1251.23 1568.27 Q1247.92 1568.97 1244.51 1568.97 Q1235.98 1568.97 1230.98 1564 Q1226.02 1559.04 1226.02 1550.57 Q1226.02 1541.82 1230.73 1536.69 Q1235.47 1531.54 1243.49 1531.54 Q1250.68 1531.54 1254.85 1536.18 Q1259.06 1540.8 1259.06 1548.76 M1253.2 1547.04 Q1253.14 1542.23 1250.49 1539.37 Q1247.88 1536.5 1243.56 1536.5 Q1238.65 1536.5 1235.69 1539.27 Q1232.77 1542.04 1232.32 1547.07 L1253.2 1547.04 Z\" fill=\"#000000\" fill-rule=\"evenodd\" fill-opacity=\"1\" /><path clip-path=\"url(#clip650)\" d=\"M1298.3 1546.53 L1298.3 1568.04 L1292.44 1568.04 L1292.44 1546.72 Q1292.44 1541.66 1290.47 1539.14 Q1288.5 1536.63 1284.55 1536.63 Q1279.81 1536.63 1277.07 1539.65 Q1274.33 1542.68 1274.33 1547.9 L1274.33 1568.04 L1268.45 1568.04 L1268.45 1532.4 L1274.33 1532.4 L1274.33 1537.93 Q1276.43 1534.72 1279.27 1533.13 Q1282.13 1531.54 1285.86 1531.54 Q1292 1531.54 1295.15 1535.36 Q1298.3 1539.14 1298.3 1546.53 Z\" fill=\"#000000\" fill-rule=\"evenodd\" fill-opacity=\"1\" /><path clip-path=\"url(#clip650)\" d=\"M1315.77 1522.27 L1315.77 1532.4 L1327.84 1532.4 L1327.84 1536.95 L1315.77 1536.95 L1315.77 1556.3 Q1315.77 1560.66 1316.95 1561.9 Q1318.16 1563.14 1321.82 1563.14 L1327.84 1563.14 L1327.84 1568.04 L1321.82 1568.04 Q1315.04 1568.04 1312.46 1565.53 Q1309.89 1562.98 1309.89 1556.3 L1309.89 1536.95 L1305.59 1536.95 L1305.59 1532.4 L1309.89 1532.4 L1309.89 1522.27 L1315.77 1522.27 Z\" fill=\"#000000\" fill-rule=\"evenodd\" fill-opacity=\"1\" /><path clip-path=\"url(#clip650)\" d=\"M1370.33 1518.58 Q1366.06 1525.9 1363.99 1533.06 Q1361.93 1540.23 1361.93 1547.58 Q1361.93 1554.93 1363.99 1562.16 Q1366.1 1569.35 1370.33 1576.64 L1365.24 1576.64 Q1360.46 1569.16 1358.07 1561.93 Q1355.72 1554.71 1355.72 1547.58 Q1355.72 1540.48 1358.07 1533.29 Q1360.43 1526.09 1365.24 1518.58 L1370.33 1518.58 Z\" fill=\"#000000\" fill-rule=\"evenodd\" fill-opacity=\"1\" /><path clip-path=\"url(#clip650)\" d=\"M1397.83 1526.86 L1389.11 1550.51 L1406.58 1550.51 L1397.83 1526.86 M1394.2 1520.52 L1401.49 1520.52 L1419.6 1568.04 L1412.91 1568.04 L1408.59 1555.85 L1387.17 1555.85 L1382.84 1568.04 L1376.06 1568.04 L1394.2 1520.52 Z\" fill=\"#000000\" fill-rule=\"evenodd\" fill-opacity=\"1\" /><path clip-path=\"url(#clip650)\" d=\"M1425.36 1518.58 L1430.45 1518.58 Q1435.23 1526.09 1437.58 1533.29 Q1439.97 1540.48 1439.97 1547.58 Q1439.97 1554.71 1437.58 1561.93 Q1435.23 1569.16 1430.45 1576.64 L1425.36 1576.64 Q1429.59 1569.35 1431.66 1562.16 Q1433.76 1554.93 1433.76 1547.58 Q1433.76 1540.23 1431.66 1533.06 Q1429.59 1525.9 1425.36 1518.58 Z\" fill=\"#000000\" fill-rule=\"evenodd\" fill-opacity=\"1\" /><polyline clip-path=\"url(#clip652)\" style=\"stroke:#000000; stroke-linecap:butt; stroke-linejoin:round; stroke-width:2; stroke-opacity:0.1; fill:none\" points=\"\n  175.445,1240.01 2352.76,1240.01 \n  \"/>\n<polyline clip-path=\"url(#clip652)\" style=\"stroke:#000000; stroke-linecap:butt; stroke-linejoin:round; stroke-width:2; stroke-opacity:0.1; fill:none\" points=\"\n  175.445,951.554 2352.76,951.554 \n  \"/>\n<polyline clip-path=\"url(#clip652)\" style=\"stroke:#000000; stroke-linecap:butt; stroke-linejoin:round; stroke-width:2; stroke-opacity:0.1; fill:none\" points=\"\n  175.445,663.098 2352.76,663.098 \n  \"/>\n<polyline clip-path=\"url(#clip652)\" style=\"stroke:#000000; stroke-linecap:butt; stroke-linejoin:round; stroke-width:2; stroke-opacity:0.1; fill:none\" points=\"\n  175.445,374.642 2352.76,374.642 \n  \"/>\n<polyline clip-path=\"url(#clip652)\" style=\"stroke:#000000; stroke-linecap:butt; stroke-linejoin:round; stroke-width:2; stroke-opacity:0.1; fill:none\" points=\"\n  175.445,86.1857 2352.76,86.1857 \n  \"/>\n<polyline clip-path=\"url(#clip650)\" style=\"stroke:#000000; stroke-linecap:butt; stroke-linejoin:round; stroke-width:4; stroke-opacity:1; fill:none\" points=\"\n  175.445,1423.18 175.445,47.2441 \n  \"/>\n<polyline clip-path=\"url(#clip650)\" style=\"stroke:#000000; stroke-linecap:butt; stroke-linejoin:round; stroke-width:4; stroke-opacity:1; fill:none\" points=\"\n  175.445,1240.01 201.573,1240.01 \n  \"/>\n<polyline clip-path=\"url(#clip650)\" style=\"stroke:#000000; stroke-linecap:butt; stroke-linejoin:round; stroke-width:4; stroke-opacity:1; fill:none\" points=\"\n  175.445,951.554 201.573,951.554 \n  \"/>\n<polyline clip-path=\"url(#clip650)\" style=\"stroke:#000000; stroke-linecap:butt; stroke-linejoin:round; stroke-width:4; stroke-opacity:1; fill:none\" points=\"\n  175.445,663.098 201.573,663.098 \n  \"/>\n<polyline clip-path=\"url(#clip650)\" style=\"stroke:#000000; stroke-linecap:butt; stroke-linejoin:round; stroke-width:4; stroke-opacity:1; fill:none\" points=\"\n  175.445,374.642 201.573,374.642 \n  \"/>\n<polyline clip-path=\"url(#clip650)\" style=\"stroke:#000000; stroke-linecap:butt; stroke-linejoin:round; stroke-width:4; stroke-opacity:1; fill:none\" points=\"\n  175.445,86.1857 201.573,86.1857 \n  \"/>\n<path clip-path=\"url(#clip650)\" d=\"M119.538 1253.36 L127.177 1253.36 L127.177 1226.99 L118.867 1228.66 L118.867 1224.4 L127.13 1222.73 L131.806 1222.73 L131.806 1253.36 L139.445 1253.36 L139.445 1257.29 L119.538 1257.29 L119.538 1253.36 Z\" fill=\"#000000\" fill-rule=\"evenodd\" fill-opacity=\"1\" /><path clip-path=\"url(#clip650)\" d=\"M123.126 964.899 L139.445 964.899 L139.445 968.834 L117.501 968.834 L117.501 964.899 Q120.163 962.144 124.746 957.515 Q129.353 952.862 130.533 951.519 Q132.779 948.996 133.658 947.26 Q134.561 945.501 134.561 943.811 Q134.561 941.056 132.617 939.32 Q130.695 937.584 127.593 937.584 Q125.394 937.584 122.941 938.348 Q120.51 939.112 117.732 940.663 L117.732 935.941 Q120.556 934.806 123.01 934.228 Q125.464 933.649 127.501 933.649 Q132.871 933.649 136.066 936.334 Q139.26 939.019 139.26 943.51 Q139.26 945.64 138.45 947.561 Q137.663 949.459 135.556 952.052 Q134.978 952.723 131.876 955.941 Q128.774 959.135 123.126 964.899 Z\" fill=\"#000000\" fill-rule=\"evenodd\" fill-opacity=\"1\" /><path clip-path=\"url(#clip650)\" d=\"M132.316 661.744 Q135.672 662.461 137.547 664.73 Q139.445 666.998 139.445 670.332 Q139.445 675.447 135.927 678.248 Q132.408 681.049 125.927 681.049 Q123.751 681.049 121.436 680.609 Q119.144 680.193 116.691 679.336 L116.691 674.822 Q118.635 675.957 120.95 676.535 Q123.265 677.114 125.788 677.114 Q130.186 677.114 132.478 675.378 Q134.792 673.642 134.792 670.332 Q134.792 667.276 132.64 665.563 Q130.51 663.827 126.691 663.827 L122.663 663.827 L122.663 659.985 L126.876 659.985 Q130.325 659.985 132.154 658.619 Q133.982 657.23 133.982 654.637 Q133.982 651.975 132.084 650.563 Q130.209 649.128 126.691 649.128 Q124.769 649.128 122.57 649.545 Q120.371 649.961 117.732 650.841 L117.732 646.674 Q120.394 645.934 122.709 645.563 Q125.047 645.193 127.107 645.193 Q132.431 645.193 135.533 647.623 Q138.635 650.031 138.635 654.151 Q138.635 657.022 136.992 659.012 Q135.348 660.98 132.316 661.744 Z\" fill=\"#000000\" fill-rule=\"evenodd\" fill-opacity=\"1\" /><path clip-path=\"url(#clip650)\" d=\"M129.862 361.436 L118.056 379.885 L129.862 379.885 L129.862 361.436 M128.635 357.362 L134.515 357.362 L134.515 379.885 L139.445 379.885 L139.445 383.774 L134.515 383.774 L134.515 391.922 L129.862 391.922 L129.862 383.774 L114.26 383.774 L114.26 379.26 L128.635 357.362 Z\" fill=\"#000000\" fill-rule=\"evenodd\" fill-opacity=\"1\" /><path clip-path=\"url(#clip650)\" d=\"M118.543 68.9057 L136.899 68.9057 L136.899 72.8408 L122.825 72.8408 L122.825 81.313 Q123.843 80.9658 124.862 80.8038 Q125.88 80.6186 126.899 80.6186 Q132.686 80.6186 136.066 83.7899 Q139.445 86.9611 139.445 92.3778 Q139.445 97.9564 135.973 101.058 Q132.501 104.137 126.181 104.137 Q124.005 104.137 121.737 103.767 Q119.492 103.396 117.084 102.655 L117.084 97.9564 Q119.168 99.0907 121.39 99.6462 Q123.612 100.202 126.089 100.202 Q130.093 100.202 132.431 98.0953 Q134.769 95.9889 134.769 92.3778 Q134.769 88.7667 132.431 86.6602 Q130.093 84.5537 126.089 84.5537 Q124.214 84.5537 122.339 84.9704 Q120.487 85.3871 118.543 86.2667 L118.543 68.9057 Z\" fill=\"#000000\" fill-rule=\"evenodd\" fill-opacity=\"1\" /><path clip-path=\"url(#clip650)\" d=\"M64.0042 894.355 L16.4842 912.497 L16.4842 905.781 L56.4926 890.726 L16.4842 875.639 L16.4842 868.955 L64.0042 887.066 L64.0042 894.355 Z\" fill=\"#000000\" fill-rule=\"evenodd\" fill-opacity=\"1\" /><path clip-path=\"url(#clip650)\" d=\"M32.4621 853.519 Q32.4621 858.229 36.1542 860.967 Q39.8145 863.704 46.212 863.704 Q52.6095 863.704 56.3017 860.998 Q59.9619 858.261 59.9619 853.519 Q59.9619 848.84 56.2698 846.103 Q52.5777 843.365 46.212 843.365 Q39.8781 843.365 36.186 846.103 Q32.4621 848.84 32.4621 853.519 M27.4968 853.519 Q27.4968 845.88 32.4621 841.519 Q37.4273 837.159 46.212 837.159 Q54.9649 837.159 59.9619 841.519 Q64.9272 845.88 64.9272 853.519 Q64.9272 861.189 59.9619 865.55 Q54.9649 869.878 46.212 869.878 Q37.4273 869.878 32.4621 865.55 Q27.4968 861.189 27.4968 853.519 Z\" fill=\"#000000\" fill-rule=\"evenodd\" fill-opacity=\"1\" /><path clip-path=\"url(#clip650)\" d=\"M14.479 827.451 L14.479 821.595 L64.0042 821.595 L64.0042 827.451 L14.479 827.451 Z\" fill=\"#000000\" fill-rule=\"evenodd\" fill-opacity=\"1\" /><path clip-path=\"url(#clip650)\" d=\"M18.2347 803.548 L28.3562 803.548 L28.3562 791.485 L32.9077 791.485 L32.9077 803.548 L52.2594 803.548 Q56.6199 803.548 57.8613 802.37 Q59.1026 801.161 59.1026 797.5 L59.1026 791.485 L64.0042 791.485 L64.0042 797.5 Q64.0042 804.28 61.4897 806.858 Q58.9434 809.436 52.2594 809.436 L32.9077 809.436 L32.9077 813.733 L28.3562 813.733 L28.3562 809.436 L18.2347 809.436 L18.2347 803.548 Z\" fill=\"#000000\" fill-rule=\"evenodd\" fill-opacity=\"1\" /><path clip-path=\"url(#clip650)\" d=\"M46.0847 767.582 Q46.0847 774.679 47.7079 777.417 Q49.3312 780.154 53.2461 780.154 Q56.3653 780.154 58.2114 778.117 Q60.0256 776.048 60.0256 772.515 Q60.0256 767.645 56.5881 764.717 Q53.1188 761.757 47.3897 761.757 L46.0847 761.757 L46.0847 767.582 M43.6657 755.901 L64.0042 755.901 L64.0042 761.757 L58.5933 761.757 Q61.8398 763.762 63.3994 766.754 Q64.9272 769.746 64.9272 774.075 Q64.9272 779.549 61.8716 782.796 Q58.7843 786.01 53.6281 786.01 Q47.6125 786.01 44.5569 782 Q41.5014 777.958 41.5014 769.969 L41.5014 761.757 L40.9285 761.757 Q36.8862 761.757 34.6901 764.431 Q32.4621 767.072 32.4621 771.878 Q32.4621 774.934 33.1941 777.83 Q33.9262 780.727 35.3903 783.4 L29.9795 783.4 Q28.7381 780.186 28.1334 777.162 Q27.4968 774.138 27.4968 771.274 Q27.4968 763.539 31.5072 759.72 Q35.5176 755.901 43.6657 755.901 Z\" fill=\"#000000\" fill-rule=\"evenodd\" fill-opacity=\"1\" /><path clip-path=\"url(#clip650)\" d=\"M45.7664 720.38 Q39.4007 720.38 35.8996 723.022 Q32.3984 725.632 32.3984 730.374 Q32.3984 735.085 35.8996 737.726 Q39.4007 740.336 45.7664 740.336 Q52.1003 740.336 55.6014 737.726 Q59.1026 735.085 59.1026 730.374 Q59.1026 725.632 55.6014 723.022 Q52.1003 720.38 45.7664 720.38 M59.58 714.523 Q68.683 714.523 73.1071 718.566 Q77.5631 722.608 77.5631 730.947 Q77.5631 734.034 77.0857 736.772 Q76.6401 739.509 75.6852 742.087 L69.9879 742.087 Q71.3884 739.509 72.0568 736.994 Q72.7252 734.48 72.7252 731.87 Q72.7252 726.109 69.7015 723.244 Q66.7096 720.38 60.6303 720.38 L57.7339 720.38 Q60.885 722.194 62.4446 725.027 Q64.0042 727.86 64.0042 731.806 Q64.0042 738.363 59.0071 742.373 Q54.01 746.384 45.7664 746.384 Q37.491 746.384 32.4939 742.373 Q27.4968 738.363 27.4968 731.806 Q27.4968 727.86 29.0564 725.027 Q30.616 722.194 33.7671 720.38 L28.3562 720.38 L28.3562 714.523 L59.58 714.523 Z\" fill=\"#000000\" fill-rule=\"evenodd\" fill-opacity=\"1\" /><path clip-path=\"url(#clip650)\" d=\"M44.7161 671.969 L47.5806 671.969 L47.5806 698.896 Q53.6281 698.514 56.8109 695.267 Q59.9619 691.989 59.9619 686.164 Q59.9619 682.79 59.1344 679.639 Q58.3069 676.456 56.6518 673.337 L62.1899 673.337 Q63.5267 676.488 64.227 679.798 Q64.9272 683.109 64.9272 686.514 Q64.9272 695.044 59.9619 700.041 Q54.9967 705.007 46.5303 705.007 Q37.7774 705.007 32.6531 700.296 Q27.4968 695.554 27.4968 687.533 Q27.4968 680.34 32.1438 676.17 Q36.7589 671.969 44.7161 671.969 M42.9973 677.825 Q38.1912 677.889 35.3266 680.531 Q32.4621 683.14 32.4621 687.469 Q32.4621 692.371 35.2312 695.331 Q38.0002 698.259 43.0292 698.705 L42.9973 677.825 Z\" fill=\"#000000\" fill-rule=\"evenodd\" fill-opacity=\"1\" /><path clip-path=\"url(#clip650)\" d=\"M14.5426 627.568 Q21.8632 631.833 29.0246 633.902 Q36.186 635.971 43.5384 635.971 Q50.8908 635.971 58.1159 633.902 Q65.3091 631.801 72.5979 627.568 L72.5979 632.66 Q65.1182 637.435 57.8931 639.822 Q50.668 642.177 43.5384 642.177 Q36.4406 642.177 29.2474 639.822 Q22.0542 637.467 14.5426 632.66 L14.5426 627.568 Z\" fill=\"#000000\" fill-rule=\"evenodd\" fill-opacity=\"1\" /><path clip-path=\"url(#clip650)\" d=\"M64.0042 603.696 L16.4842 621.839 L16.4842 615.123 L56.4926 600.068 L16.4842 584.981 L16.4842 578.297 L64.0042 596.408 L64.0042 603.696 Z\" fill=\"#000000\" fill-rule=\"evenodd\" fill-opacity=\"1\" /><path clip-path=\"url(#clip650)\" d=\"M14.5426 572.536 L14.5426 567.444 Q22.0542 562.669 29.2474 560.314 Q36.4406 557.927 43.5384 557.927 Q50.668 557.927 57.8931 560.314 Q65.1182 562.669 72.5979 567.444 L72.5979 572.536 Q65.3091 568.303 58.1159 566.234 Q50.8908 564.134 43.5384 564.134 Q36.186 564.134 29.0246 566.234 Q21.8632 568.303 14.5426 572.536 Z\" fill=\"#000000\" fill-rule=\"evenodd\" fill-opacity=\"1\" /><path clip-path=\"url(#clip652)\" d=\"M237.067 1360.24 L213.067 1384.24 L237.067 1408.24 L261.067 1384.24 L237.067 1360.24 Z\" fill=\"#009af9\" fill-rule=\"evenodd\" fill-opacity=\"1\" stroke=\"#000000\" stroke-opacity=\"1\" stroke-width=\"3.2\"/>\n<path clip-path=\"url(#clip652)\" d=\"M495.526 1216.01 L471.526 1240.01 L495.526 1264.01 L519.526 1240.01 L495.526 1216.01 Z\" fill=\"#009af9\" fill-rule=\"evenodd\" fill-opacity=\"1\" stroke=\"#000000\" stroke-opacity=\"1\" stroke-width=\"3.2\"/>\n<path clip-path=\"url(#clip652)\" d=\"M713.175 1071.78 L689.175 1095.78 L713.175 1119.78 L737.175 1095.78 L713.175 1071.78 Z\" fill=\"#009af9\" fill-rule=\"evenodd\" fill-opacity=\"1\" stroke=\"#000000\" stroke-opacity=\"1\" stroke-width=\"3.2\"/>\n<path clip-path=\"url(#clip652)\" d=\"M930.825 927.554 L906.825 951.554 L930.825 975.554 L954.825 951.554 L930.825 927.554 Z\" fill=\"#009af9\" fill-rule=\"evenodd\" fill-opacity=\"1\" stroke=\"#000000\" stroke-opacity=\"1\" stroke-width=\"3.2\"/>\n<path clip-path=\"url(#clip652)\" d=\"M1139.41 783.326 L1115.41 807.326 L1139.41 831.326 L1163.41 807.326 L1139.41 783.326 Z\" fill=\"#009af9\" fill-rule=\"evenodd\" fill-opacity=\"1\" stroke=\"#000000\" stroke-opacity=\"1\" stroke-width=\"3.2\"/>\n<path clip-path=\"url(#clip652)\" d=\"M1434.14 639.098 L1410.14 663.098 L1434.14 687.098 L1458.14 663.098 L1434.14 639.098 Z\" fill=\"#009af9\" fill-rule=\"evenodd\" fill-opacity=\"1\" stroke=\"#000000\" stroke-opacity=\"1\" stroke-width=\"3.2\"/>\n<path clip-path=\"url(#clip652)\" d=\"M1597.38 494.87 L1573.38 518.87 L1597.38 542.87 L1621.38 518.87 L1597.38 494.87 Z\" fill=\"#009af9\" fill-rule=\"evenodd\" fill-opacity=\"1\" stroke=\"#000000\" stroke-opacity=\"1\" stroke-width=\"3.2\"/>\n<path clip-path=\"url(#clip652)\" d=\"M1837.7 350.642 L1813.7 374.642 L1837.7 398.642 L1861.7 374.642 L1837.7 350.642 Z\" fill=\"#009af9\" fill-rule=\"evenodd\" fill-opacity=\"1\" stroke=\"#000000\" stroke-opacity=\"1\" stroke-width=\"3.2\"/>\n<path clip-path=\"url(#clip652)\" d=\"M2037.21 206.414 L2013.21 230.414 L2037.21 254.414 L2061.21 230.414 L2037.21 206.414 Z\" fill=\"#009af9\" fill-rule=\"evenodd\" fill-opacity=\"1\" stroke=\"#000000\" stroke-opacity=\"1\" stroke-width=\"3.2\"/>\n<path clip-path=\"url(#clip652)\" d=\"M2291.13 62.1857 L2267.13 86.1857 L2291.13 110.186 L2315.13 86.1857 L2291.13 62.1857 Z\" fill=\"#009af9\" fill-rule=\"evenodd\" fill-opacity=\"1\" stroke=\"#000000\" stroke-opacity=\"1\" stroke-width=\"3.2\"/>\n<path clip-path=\"url(#clip650)\" d=\"\nM1985.83 196.789 L2280.18 196.789 L2280.18 93.1086 L1985.83 93.1086  Z\n  \" fill=\"#ffffff\" fill-rule=\"evenodd\" fill-opacity=\"1\"/>\n<polyline clip-path=\"url(#clip650)\" style=\"stroke:#000000; stroke-linecap:butt; stroke-linejoin:round; stroke-width:4; stroke-opacity:1; fill:none\" points=\"\n  1985.83,196.789 2280.18,196.789 2280.18,93.1086 1985.83,93.1086 1985.83,196.789 \n  \"/>\n<path clip-path=\"url(#clip650)\" d=\"M2082.59 119.349 L2056.99 144.949 L2082.59 170.549 L2108.19 144.949 L2082.59 119.349 Z\" fill=\"#009af9\" fill-rule=\"evenodd\" fill-opacity=\"1\" stroke=\"#000000\" stroke-opacity=\"1\" stroke-width=\"3.41333\"/>\n<path clip-path=\"url(#clip650)\" d=\"M2193.21 164.636 Q2191.4 169.266 2189.69 170.678 Q2187.97 172.09 2185.1 172.09 L2181.7 172.09 L2181.7 168.525 L2184.2 168.525 Q2185.96 168.525 2186.93 167.692 Q2187.91 166.858 2189.09 163.756 L2189.85 161.812 L2179.36 136.303 L2183.88 136.303 L2191.98 156.581 L2200.08 136.303 L2204.6 136.303 L2193.21 164.636 Z\" fill=\"#000000\" fill-rule=\"evenodd\" fill-opacity=\"1\" /><path clip-path=\"url(#clip650)\" d=\"M2211.89 158.293 L2219.53 158.293 L2219.53 131.928 L2211.22 133.595 L2211.22 129.335 L2219.48 127.669 L2224.16 127.669 L2224.16 158.293 L2231.79 158.293 L2231.79 162.229 L2211.89 162.229 L2211.89 158.293 Z\" fill=\"#000000\" fill-rule=\"evenodd\" fill-opacity=\"1\" /></svg>\n"
                    },
                    "metadata": {},
                    "execution_count": 4
                }
            ],
            "metadata": {}
        },
        {
            "cell_type": "markdown",
            "source": [
                "**Determining the circuit resistor**\n",
                "\n",
                "Now that we have both the data set and we can graph it all is left is to determine the circuit resistor value $R$. From Ohm's law:\n",
                "\n",
                "$V=I•R$\n",
                "\n",
                "therefore a simple linear regresion of the data series above will return the value of the resistor. Linear regresions are directly supported by the `Polynomials` package."
            ],
            "metadata": {}
        },
        {
            "cell_type": "code",
            "execution_count": 5,
            "source": [
                "using Polynomials\n",
                "fV=fit(i,v,1)\n",
                "plot!(fV, extrema(i)...)"
            ],
            "outputs": [
                {
                    "output_type": "error",
                    "ename": "LoadError",
                    "evalue": "ArgumentError: Package Polynomials not found in current path:\n- Run `import Pkg; Pkg.add(\"Polynomials\")` to install the Polynomials package.\n",
                    "traceback": [
                        "ArgumentError: Package Polynomials not found in current path:\n- Run `import Pkg; Pkg.add(\"Polynomials\")` to install the Polynomials package.\n",
                        "",
                        "Stacktrace:",
                        " [1] require(into::Module, mod::Symbol)",
                        "   @ Base ./loading.jl:893",
                        " [2] eval",
                        "   @ ./boot.jl:360 [inlined]",
                        " [3] include_string(mapexpr::typeof(REPL.softscope), mod::Module, code::String, filename::String)",
                        "   @ Base ./loading.jl:1116"
                    ]
                }
            ],
            "metadata": {}
        }
    ],
    "metadata": {
        "orig_nbformat": 4,
        "language_info": {
            "file_extension": ".jl",
            "name": "julia",
            "mimetype": "application/julia",
            "version": "1.6.2"
        },
        "kernelspec": {
            "name": "julia-1.6",
            "display_name": "Julia 1.6.2",
            "language": "julia"
        }
    },
    "nbformat": 4,
    "nbformat_minor": 2
}