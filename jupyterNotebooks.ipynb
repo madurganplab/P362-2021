{
 "cells": [
  {
   "cell_type": "markdown",
   "source": [
    "# Jupiter Notebooks\n",
    "\n",
    "**Abstract**\n",
    "\n",
    "Jupyter notebooks provide a natural way to create numerical programming and data science logbooks. Code and text blocks allow for a natural analysis or data taking flow without requiring the typical structure needed for software oriented programming. While Jupyter's first iteration was based on Markdown for text and Python code, it currently supports all data science programming languages. In this course we will utuilize the Julia programming language thanks to its clear and simple syntax combined with fast execution."
   ],
   "metadata": {}
  },
  {
   "cell_type": "markdown",
   "source": [
    "**Markdown**\n",
    "\n",
    "Markdown uses functional syntax to describe text formatting, what is commonly defined as a markup language. For example\n",
    "\n",
    "`**This is bold text**` renders as     **This is bold text**\n",
    "\n",
    " \n",
    "\n",
    "Jupyter implementation includes a latex parser, allowing for rich math equations\n",
    "\n",
    "`$E=\\frac{1}{(1-e^{(T-K)/2})}$`   \n",
    "\n",
    "$E=\\frac{1}{(1-e^{(T-K)/2})}$\n",
    "\n",
    "For more information you can use https://www.markdownguide.org and https://www.markdownguide.org"
   ],
   "metadata": {}
  },
  {
   "cell_type": "markdown",
   "source": [
    "**The Julia Programming Language**\n",
    "\n",
    "Julia combines functional and object oriented programming to allow for powerful yet incredibly fast numerical calculations. One can think of Julia as combining the best aspects of programming languages intended for numerical and data science applications:\n",
    "\n",
    "- Julia is a functional programming language. Common operations are supported with simple yet powerful syntax\n",
    "- Julia is an object oriented programming language. New operations and data structurues can be constructed\n",
    "- Julia is compiled. Functional programming allows for highly optimized binaries, incresing execution time. \n",
    "\n",
    "Python's simplicity and expressive syntax married to Fortran's well defined structure rules allowing for optimized binaries. \n",
    "\n",
    "The Julia language guide can be found at https://docs.julialang.org/en/v1/\n",
    "\n",
    "\n"
   ],
   "metadata": {}
  }
 ],
 "metadata": {
  "orig_nbformat": 4,
  "language_info": {
   "name": "julia"
  },
  "kernelspec": {
   "name": "juliapro_v1.5.4-1-1.5",
   "display_name": "JuliaPro_v1.5.4-1 1.5.4"
  }
 },
 "nbformat": 4,
 "nbformat_minor": 2
}